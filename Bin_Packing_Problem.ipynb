{
  "nbformat": 4,
  "nbformat_minor": 0,
  "metadata": {
    "colab": {
      "provenance": [],
      "authorship_tag": "ABX9TyM5MVXCuAiYBb3RbzYxIhoG",
      "include_colab_link": true
    },
    "kernelspec": {
      "name": "python3",
      "display_name": "Python 3"
    },
    "language_info": {
      "name": "python"
    }
  },
  "cells": [
    {
      "cell_type": "markdown",
      "metadata": {
        "id": "view-in-github",
        "colab_type": "text"
      },
      "source": [
        "<a href=\"https://colab.research.google.com/github/IlyaHomka/MSc-Projects/blob/main/Bin_Packing_Problem.ipynb\" target=\"_parent\"><img src=\"https://colab.research.google.com/assets/colab-badge.svg\" alt=\"Open In Colab\"/></a>"
      ]
    },
    {
      "cell_type": "code",
      "execution_count": 1,
      "metadata": {
        "colab": {
          "base_uri": "https://localhost:8080/"
        },
        "id": "qB_SDDGcsjEH",
        "outputId": "e7a8a987-e36d-4a01-bf25-078cde1c54f4"
      },
      "outputs": [
        {
          "output_type": "stream",
          "name": "stdout",
          "text": [
            "Requirement already satisfied: qiskit in /usr/local/lib/python3.10/dist-packages (1.2.4)\n",
            "Requirement already satisfied: rustworkx>=0.15.0 in /usr/local/lib/python3.10/dist-packages (from qiskit) (0.15.1)\n",
            "Requirement already satisfied: numpy<3,>=1.17 in /usr/local/lib/python3.10/dist-packages (from qiskit) (1.26.4)\n",
            "Requirement already satisfied: scipy>=1.5 in /usr/local/lib/python3.10/dist-packages (from qiskit) (1.13.1)\n",
            "Requirement already satisfied: sympy>=1.3 in /usr/local/lib/python3.10/dist-packages (from qiskit) (1.13.3)\n",
            "Requirement already satisfied: dill>=0.3 in /usr/local/lib/python3.10/dist-packages (from qiskit) (0.3.9)\n",
            "Requirement already satisfied: python-dateutil>=2.8.0 in /usr/local/lib/python3.10/dist-packages (from qiskit) (2.8.2)\n",
            "Requirement already satisfied: stevedore>=3.0.0 in /usr/local/lib/python3.10/dist-packages (from qiskit) (5.3.0)\n",
            "Requirement already satisfied: typing-extensions in /usr/local/lib/python3.10/dist-packages (from qiskit) (4.12.2)\n",
            "Requirement already satisfied: symengine<0.14,>=0.11 in /usr/local/lib/python3.10/dist-packages (from qiskit) (0.13.0)\n",
            "Requirement already satisfied: six>=1.5 in /usr/local/lib/python3.10/dist-packages (from python-dateutil>=2.8.0->qiskit) (1.16.0)\n",
            "Requirement already satisfied: pbr>=2.0.0 in /usr/local/lib/python3.10/dist-packages (from stevedore>=3.0.0->qiskit) (6.1.0)\n",
            "Requirement already satisfied: mpmath<1.4,>=1.1.0 in /usr/local/lib/python3.10/dist-packages (from sympy>=1.3->qiskit) (1.3.0)\n"
          ]
        }
      ],
      "source": [
        "! pip install qiskit"
      ]
    },
    {
      "cell_type": "code",
      "source": [
        "! pip install docplex"
      ],
      "metadata": {
        "colab": {
          "base_uri": "https://localhost:8080/"
        },
        "id": "XoRRxAlhuJOZ",
        "outputId": "c0777ace-1713-49ff-dc1e-24fb2a7d7d2b"
      },
      "execution_count": 2,
      "outputs": [
        {
          "output_type": "stream",
          "name": "stdout",
          "text": [
            "Requirement already satisfied: docplex in /usr/local/lib/python3.10/dist-packages (2.28.240)\n",
            "Requirement already satisfied: six in /usr/local/lib/python3.10/dist-packages (from docplex) (1.16.0)\n"
          ]
        }
      ]
    },
    {
      "cell_type": "code",
      "source": [
        "! pip install qiskit-aer"
      ],
      "metadata": {
        "colab": {
          "base_uri": "https://localhost:8080/"
        },
        "id": "vTe4mnRLvA3B",
        "outputId": "bdffdb56-605c-4616-c5df-d57ee59105dc"
      },
      "execution_count": 3,
      "outputs": [
        {
          "output_type": "stream",
          "name": "stdout",
          "text": [
            "Requirement already satisfied: qiskit-aer in /usr/local/lib/python3.10/dist-packages (0.15.1)\n",
            "Requirement already satisfied: qiskit>=1.1.0 in /usr/local/lib/python3.10/dist-packages (from qiskit-aer) (1.2.4)\n",
            "Requirement already satisfied: numpy>=1.16.3 in /usr/local/lib/python3.10/dist-packages (from qiskit-aer) (1.26.4)\n",
            "Requirement already satisfied: scipy>=1.0 in /usr/local/lib/python3.10/dist-packages (from qiskit-aer) (1.13.1)\n",
            "Requirement already satisfied: psutil>=5 in /usr/local/lib/python3.10/dist-packages (from qiskit-aer) (5.9.5)\n",
            "Requirement already satisfied: rustworkx>=0.15.0 in /usr/local/lib/python3.10/dist-packages (from qiskit>=1.1.0->qiskit-aer) (0.15.1)\n",
            "Requirement already satisfied: sympy>=1.3 in /usr/local/lib/python3.10/dist-packages (from qiskit>=1.1.0->qiskit-aer) (1.13.3)\n",
            "Requirement already satisfied: dill>=0.3 in /usr/local/lib/python3.10/dist-packages (from qiskit>=1.1.0->qiskit-aer) (0.3.9)\n",
            "Requirement already satisfied: python-dateutil>=2.8.0 in /usr/local/lib/python3.10/dist-packages (from qiskit>=1.1.0->qiskit-aer) (2.8.2)\n",
            "Requirement already satisfied: stevedore>=3.0.0 in /usr/local/lib/python3.10/dist-packages (from qiskit>=1.1.0->qiskit-aer) (5.3.0)\n",
            "Requirement already satisfied: typing-extensions in /usr/local/lib/python3.10/dist-packages (from qiskit>=1.1.0->qiskit-aer) (4.12.2)\n",
            "Requirement already satisfied: symengine<0.14,>=0.11 in /usr/local/lib/python3.10/dist-packages (from qiskit>=1.1.0->qiskit-aer) (0.13.0)\n",
            "Requirement already satisfied: six>=1.5 in /usr/local/lib/python3.10/dist-packages (from python-dateutil>=2.8.0->qiskit>=1.1.0->qiskit-aer) (1.16.0)\n",
            "Requirement already satisfied: pbr>=2.0.0 in /usr/local/lib/python3.10/dist-packages (from stevedore>=3.0.0->qiskit>=1.1.0->qiskit-aer) (6.1.0)\n",
            "Requirement already satisfied: mpmath<1.4,>=1.1.0 in /usr/local/lib/python3.10/dist-packages (from sympy>=1.3->qiskit>=1.1.0->qiskit-aer) (1.3.0)\n"
          ]
        }
      ]
    },
    {
      "cell_type": "code",
      "source": [
        "! pip install qiskit-algorithms"
      ],
      "metadata": {
        "colab": {
          "base_uri": "https://localhost:8080/"
        },
        "id": "Szhk5iwcvRzU",
        "outputId": "4db27587-c481-4914-c0e5-5b84abf167af"
      },
      "execution_count": 4,
      "outputs": [
        {
          "output_type": "stream",
          "name": "stdout",
          "text": [
            "Requirement already satisfied: qiskit-algorithms in /usr/local/lib/python3.10/dist-packages (0.3.1)\n",
            "Requirement already satisfied: qiskit>=0.44 in /usr/local/lib/python3.10/dist-packages (from qiskit-algorithms) (1.2.4)\n",
            "Requirement already satisfied: scipy>=1.4 in /usr/local/lib/python3.10/dist-packages (from qiskit-algorithms) (1.13.1)\n",
            "Requirement already satisfied: numpy>=1.17 in /usr/local/lib/python3.10/dist-packages (from qiskit-algorithms) (1.26.4)\n",
            "Requirement already satisfied: rustworkx>=0.15.0 in /usr/local/lib/python3.10/dist-packages (from qiskit>=0.44->qiskit-algorithms) (0.15.1)\n",
            "Requirement already satisfied: sympy>=1.3 in /usr/local/lib/python3.10/dist-packages (from qiskit>=0.44->qiskit-algorithms) (1.13.3)\n",
            "Requirement already satisfied: dill>=0.3 in /usr/local/lib/python3.10/dist-packages (from qiskit>=0.44->qiskit-algorithms) (0.3.9)\n",
            "Requirement already satisfied: python-dateutil>=2.8.0 in /usr/local/lib/python3.10/dist-packages (from qiskit>=0.44->qiskit-algorithms) (2.8.2)\n",
            "Requirement already satisfied: stevedore>=3.0.0 in /usr/local/lib/python3.10/dist-packages (from qiskit>=0.44->qiskit-algorithms) (5.3.0)\n",
            "Requirement already satisfied: typing-extensions in /usr/local/lib/python3.10/dist-packages (from qiskit>=0.44->qiskit-algorithms) (4.12.2)\n",
            "Requirement already satisfied: symengine<0.14,>=0.11 in /usr/local/lib/python3.10/dist-packages (from qiskit>=0.44->qiskit-algorithms) (0.13.0)\n",
            "Requirement already satisfied: six>=1.5 in /usr/local/lib/python3.10/dist-packages (from python-dateutil>=2.8.0->qiskit>=0.44->qiskit-algorithms) (1.16.0)\n",
            "Requirement already satisfied: pbr>=2.0.0 in /usr/local/lib/python3.10/dist-packages (from stevedore>=3.0.0->qiskit>=0.44->qiskit-algorithms) (6.1.0)\n",
            "Requirement already satisfied: mpmath<1.4,>=1.1.0 in /usr/local/lib/python3.10/dist-packages (from sympy>=1.3->qiskit>=0.44->qiskit-algorithms) (1.3.0)\n"
          ]
        }
      ]
    },
    {
      "cell_type": "code",
      "source": [
        "!pip install qiskit-optimization==0.6.1"
      ],
      "metadata": {
        "colab": {
          "base_uri": "https://localhost:8080/"
        },
        "id": "dNw3qSDYwBX2",
        "outputId": "8d2cb854-e4f6-4065-db3f-5186bc9cbff6"
      },
      "execution_count": 5,
      "outputs": [
        {
          "output_type": "stream",
          "name": "stdout",
          "text": [
            "Requirement already satisfied: qiskit-optimization==0.6.1 in /usr/local/lib/python3.10/dist-packages (0.6.1)\n",
            "Requirement already satisfied: qiskit>=0.44 in /usr/local/lib/python3.10/dist-packages (from qiskit-optimization==0.6.1) (1.2.4)\n",
            "Requirement already satisfied: qiskit-algorithms>=0.2.0 in /usr/local/lib/python3.10/dist-packages (from qiskit-optimization==0.6.1) (0.3.1)\n",
            "Requirement already satisfied: scipy>=1.9.0 in /usr/local/lib/python3.10/dist-packages (from qiskit-optimization==0.6.1) (1.13.1)\n",
            "Requirement already satisfied: numpy>=1.17 in /usr/local/lib/python3.10/dist-packages (from qiskit-optimization==0.6.1) (1.26.4)\n",
            "Requirement already satisfied: docplex!=2.24.231,>=2.21.207 in /usr/local/lib/python3.10/dist-packages (from qiskit-optimization==0.6.1) (2.28.240)\n",
            "Requirement already satisfied: setuptools>=40.1.0 in /usr/local/lib/python3.10/dist-packages (from qiskit-optimization==0.6.1) (75.1.0)\n",
            "Requirement already satisfied: networkx>=2.6.3 in /usr/local/lib/python3.10/dist-packages (from qiskit-optimization==0.6.1) (3.4.1)\n",
            "Requirement already satisfied: six in /usr/local/lib/python3.10/dist-packages (from docplex!=2.24.231,>=2.21.207->qiskit-optimization==0.6.1) (1.16.0)\n",
            "Requirement already satisfied: rustworkx>=0.15.0 in /usr/local/lib/python3.10/dist-packages (from qiskit>=0.44->qiskit-optimization==0.6.1) (0.15.1)\n",
            "Requirement already satisfied: sympy>=1.3 in /usr/local/lib/python3.10/dist-packages (from qiskit>=0.44->qiskit-optimization==0.6.1) (1.13.3)\n",
            "Requirement already satisfied: dill>=0.3 in /usr/local/lib/python3.10/dist-packages (from qiskit>=0.44->qiskit-optimization==0.6.1) (0.3.9)\n",
            "Requirement already satisfied: python-dateutil>=2.8.0 in /usr/local/lib/python3.10/dist-packages (from qiskit>=0.44->qiskit-optimization==0.6.1) (2.8.2)\n",
            "Requirement already satisfied: stevedore>=3.0.0 in /usr/local/lib/python3.10/dist-packages (from qiskit>=0.44->qiskit-optimization==0.6.1) (5.3.0)\n",
            "Requirement already satisfied: typing-extensions in /usr/local/lib/python3.10/dist-packages (from qiskit>=0.44->qiskit-optimization==0.6.1) (4.12.2)\n",
            "Requirement already satisfied: symengine<0.14,>=0.11 in /usr/local/lib/python3.10/dist-packages (from qiskit>=0.44->qiskit-optimization==0.6.1) (0.13.0)\n",
            "Requirement already satisfied: pbr>=2.0.0 in /usr/local/lib/python3.10/dist-packages (from stevedore>=3.0.0->qiskit>=0.44->qiskit-optimization==0.6.1) (6.1.0)\n",
            "Requirement already satisfied: mpmath<1.4,>=1.1.0 in /usr/local/lib/python3.10/dist-packages (from sympy>=1.3->qiskit>=0.44->qiskit-optimization==0.6.1) (1.3.0)\n"
          ]
        }
      ]
    },
    {
      "cell_type": "code",
      "source": [
        "!pip install cplex"
      ],
      "metadata": {
        "colab": {
          "base_uri": "https://localhost:8080/"
        },
        "id": "2r5PkOMjhCGk",
        "outputId": "5fa91218-e050-4df8-d4da-358aa3233434"
      },
      "execution_count": 6,
      "outputs": [
        {
          "output_type": "stream",
          "name": "stdout",
          "text": [
            "Requirement already satisfied: cplex in /usr/local/lib/python3.10/dist-packages (22.1.1.2)\n"
          ]
        }
      ]
    },
    {
      "cell_type": "markdown",
      "source": [
        "# Bin Packing Problem\n",
        "\n",
        "The bin packing problem is an optimization problem where it is necessaru to assigning $N$ items of differing sizes into the smallest number of bins each with capacity $Q$."
      ],
      "metadata": {
        "id": "ioCgkaJlt3Yh"
      }
    },
    {
      "cell_type": "markdown",
      "source": [
        "## 1. Problem statement\n",
        "\n",
        "$$\\underset{\\chi, \\xi}{minimize}\\sum_{i=1}^m \\chi_i$$\n",
        "\n",
        "subject to:\n",
        "$$\\sum_{i=1}^m \\xi_{ij} = 1 \\qquad j=1,...,n$$\n",
        "$$\\sum_{j=1}^n w_{j}\\xi_{ij} \\le Q \\chi_i \\qquad i = 1, ..., m$$\n",
        "$$\\xi_{ij}\\in  \\{0,1\\} \\qquad i=1,..,m \\qquad j=1,..,n$$\n",
        "$$\\chi_{i}\\in  \\{0,1\\} \\qquad i=1,..,m $$\n",
        "\n",
        "- n is the number of items\n",
        "- m is the number of bins\n",
        "- $w_j$ is the j-th item weight\n",
        "- $\\chi_i$ is i-th bin\n",
        "- $\\xi_{ij}$ is the variable that represent if the item j is in the bin i."
      ],
      "metadata": {
        "id": "p6alvRmStTzz"
      }
    },
    {
      "cell_type": "code",
      "source": [
        "import numpy as np\n",
        "import matplotlib.pyplot as plt\n",
        "from docplex.mp.model import Model\n",
        "\n",
        "from qiskit_aer import Aer\n",
        "from qiskit_algorithms import QAOA, NumPyMinimumEigensolver\n",
        "from qiskit_optimization.algorithms import CplexOptimizer, MinimumEigenOptimizer\n",
        "from qiskit_optimization.algorithms.admm_optimizer import ADMMParameters, ADMMOptimizer\n",
        "from qiskit_optimization import QuadraticProgram\n",
        "\n",
        "from qiskit_optimization.converters import QuadraticProgramToQubo"
      ],
      "metadata": {
        "id": "crNF_zxQs38q"
      },
      "execution_count": 1,
      "outputs": []
    },
    {
      "cell_type": "markdown",
      "source": [
        "#1.\tFrom Integer Linear Programming (ILP) to Quadratic Unconstrained Binary Optimization (QUBO)"
      ],
      "metadata": {
        "id": "PA1JCLmuwFlO"
      }
    },
    {
      "cell_type": "markdown",
      "source": [
        "##Define the ILP formulation of the BPP. You can use Docplex or similar frameworks to do it."
      ],
      "metadata": {
        "id": "4L2YkIbcwUeo"
      }
    },
    {
      "cell_type": "code",
      "source": [
        "np.random.seed(2)\n",
        "n = 3 # number of bins\n",
        "m = n # number of items\n",
        "Q = 40 # max weight of a bin\n",
        "\n",
        "wj = np.random.randint(1,Q,n) # Randomly picking the item weight"
      ],
      "metadata": {
        "id": "ICIKt6NWuCNo"
      },
      "execution_count": 2,
      "outputs": []
    },
    {
      "cell_type": "code",
      "source": [
        "# Construct model using docplex\n",
        "mdl = Model(\"BinPacking\")\n",
        "\n",
        "x = mdl.binary_var_list([f\"x{i}\" for i in range(n)]) # list of variables that represent the bins\n",
        "y = mdl.binary_var_list([f\"y{i//m},{i%m}\" for i in range(n*m)]) # variables that represent the items on the specific bin\n",
        "\n",
        "objective = mdl.sum([x[i] for i in range(n)])\n",
        "\n",
        "mdl.minimize(objective)\n",
        "\n",
        "for j in range(m):\n",
        "    # First set of constraints: the items must be in any bin\n",
        "    constraint0 = mdl.sum([y[i*m+j] for i in range(n)])\n",
        "    mdl.add_constraint(constraint0 == 1, f\"cons0,{j}\")\n",
        "\n",
        "for i in range(n):\n",
        "    # Second set of constraints: weight constraints\n",
        "    constraint1 = mdl.sum([wj[j] * y[i*m+j] for j in range(m)])\n",
        "    mdl.add_constraint(constraint1 <= Q * x[i], f\"cons1,{i}\")"
      ],
      "metadata": {
        "id": "87gD6fRrxuNK"
      },
      "execution_count": 3,
      "outputs": []
    },
    {
      "cell_type": "code",
      "source": [
        "print(mdl.export_as_lp_string())"
      ],
      "metadata": {
        "colab": {
          "base_uri": "https://localhost:8080/"
        },
        "id": "mljvA48e4BUM",
        "outputId": "517d0c55-a444-427d-8e5b-276ffcd5174e"
      },
      "execution_count": 4,
      "outputs": [
        {
          "output_type": "stream",
          "name": "stdout",
          "text": [
            "\\ This file has been generated by DOcplex\n",
            "\\ ENCODING=ISO-8859-1\n",
            "\\Problem name: BinPacking\n",
            "\n",
            "Minimize\n",
            " obj: x0 + x1 + x2\n",
            "Subject To\n",
            " cons0,0: y0,0 + y1,0 + y2,0 = 1\n",
            " cons0,1: y0,1 + y1,1 + y2,1 = 1\n",
            " cons0,2: y0,2 + y1,2 + y2,2 = 1\n",
            " cons1,0: 16 y0,0 + 9 y0,1 + 23 y0,2 - 40 x0 <= 0\n",
            " cons1,1: 16 y1,0 + 9 y1,1 + 23 y1,2 - 40 x1 <= 0\n",
            " cons1,2: 16 y2,0 + 9 y2,1 + 23 y2,2 - 40 x2 <= 0\n",
            "\n",
            "Bounds\n",
            " 0 <= x0 <= 1\n",
            " 0 <= x1 <= 1\n",
            " 0 <= x2 <= 1\n",
            " 0 <= y0,0 <= 1\n",
            " 0 <= y0,1 <= 1\n",
            " 0 <= y0,2 <= 1\n",
            " 0 <= y1,0 <= 1\n",
            " 0 <= y1,1 <= 1\n",
            " 0 <= y1,2 <= 1\n",
            " 0 <= y2,0 <= 1\n",
            " 0 <= y2,1 <= 1\n",
            " 0 <= y2,2 <= 1\n",
            "\n",
            "Binaries\n",
            " x0 x1 x2 y0,0 y0,1 y0,2 y1,0 y1,1 y1,2 y2,0 y2,1 y2,2\n",
            "End\n",
            "\n"
          ]
        }
      ]
    },
    {
      "cell_type": "markdown",
      "source": [
        "##Test your function with specific instances (size small, medium, and big)\n",
        "\n"
      ],
      "metadata": {
        "id": "rg4_KWhDwwNg"
      }
    },
    {
      "cell_type": "code",
      "source": [
        "# Medium Sumber of Bins\n",
        "n1 = 10 # number of bins\n",
        "m1 = n1 # number of items\n",
        "Q1 = 40 # max weight of a bin\n",
        "wj1 = np.random.randint(1,Q1,n1) # Randomly picking the item weight"
      ],
      "metadata": {
        "id": "X-m7tyW3sGRu"
      },
      "execution_count": 5,
      "outputs": []
    },
    {
      "cell_type": "code",
      "source": [
        "# Construct model using docplex\n",
        "mdl1 = Model(\"BinPacking\")\n",
        "\n",
        "x1 = mdl1.binary_var_list([f\"x{i}\" for i in range(n1)]) # list of variables that represent the bins\n",
        "y1 = mdl1.binary_var_list([f\"y{i//m1},{i%m1}\" for i in range(n1*m1)]) # variables that represent the items on the specific bin\n",
        "\n",
        "objective1 = mdl1.sum([x1[i] for i in range(n1)])\n",
        "\n",
        "mdl1.minimize(objective1)\n",
        "\n",
        "for j in range(m1):\n",
        "    # First set of constraints: the items must be in any bin\n",
        "    constraint01 = mdl1.sum([y1[i*m1+j] for i in range(n1)])\n",
        "    mdl1.add_constraint(constraint01 == 1, f\"cons0,{j}\")\n",
        "\n",
        "for i in range(n):\n",
        "    # Second set of constraints: weight constraints\n",
        "    constraint11 = mdl1.sum([wj1[j] * y1[i*m1+j] for j in range(m1)])\n",
        "    mdl1.add_constraint(constraint11 <= Q1 * x1[i], f\"cons1,{i}\")"
      ],
      "metadata": {
        "id": "qAeCIYhKxR1k"
      },
      "execution_count": 6,
      "outputs": []
    },
    {
      "cell_type": "code",
      "source": [
        "# print(mdl1.export_as_lp_string())"
      ],
      "metadata": {
        "id": "m-XNMbek5JVh"
      },
      "execution_count": 7,
      "outputs": []
    },
    {
      "cell_type": "code",
      "source": [
        "# Large Number of Bins\n",
        "n2 = 100 # number of bins\n",
        "m2 = n2 # number of items\n",
        "Q2 = 40 # max weight of a bin\n",
        "wj2 = np.random.randint(1,Q2,n2) # Randomly picking the item weight"
      ],
      "metadata": {
        "id": "xvrxW2lXyVLT"
      },
      "execution_count": 8,
      "outputs": []
    },
    {
      "cell_type": "code",
      "source": [
        "# Construct model using docplex\n",
        "mdl2 = Model(\"BinPacking\")\n",
        "\n",
        "x2 = mdl2.binary_var_list([f\"x{i}\" for i in range(n2)]) # list of variables that represent the bins\n",
        "y2 = mdl2.binary_var_list([f\"y{i//m2},{i%m2}\" for i in range(n2*m2)]) # variables that represent the items on the specific bin\n",
        "\n",
        "objective2 = mdl2.sum([x2[i] for i in range(n2)])\n",
        "\n",
        "mdl2.minimize(objective2)\n",
        "\n",
        "for j in range(m2):\n",
        "    # First set of constraints: the items must be in any bin\n",
        "    constraint02 = mdl2.sum([y2[i*m2+j] for i in range(n2)])\n",
        "    mdl2.add_constraint(constraint02 == 1, f\"cons0,{j}\")\n",
        "\n",
        "for i in range(n):\n",
        "    # Second set of constraints: weight constraints\n",
        "    constraint12 = mdl2.sum([wj2[j] * y2[i*m2+j] for j in range(m2)])\n",
        "    mdl2.add_constraint(constraint12 <= Q2 * x2[i], f\"cons1,{i}\")"
      ],
      "metadata": {
        "id": "YZvSkbmiywFa"
      },
      "execution_count": 9,
      "outputs": []
    },
    {
      "cell_type": "code",
      "source": [
        "# print(mdl2.export_as_lp_string())"
      ],
      "metadata": {
        "id": "S5jZ69VozLH_"
      },
      "execution_count": 10,
      "outputs": []
    },
    {
      "cell_type": "markdown",
      "source": [
        "##Create a function to transform the ILP model into a QUBO"
      ],
      "metadata": {
        "id": "Cg1hPnEYwerD"
      }
    },
    {
      "cell_type": "code",
      "source": [
        "# Converting the docplex model into a QUBO model\n",
        "from qiskit_optimization.translators import from_docplex_mp\n",
        "\n",
        "def docplex_to_qubo(my_mdl):\n",
        "  qp = from_docplex_mp(my_mdl)\n",
        "  conv = QuadraticProgramToQubo()\n",
        "  model_qubo = conv.convert(qp)\n",
        "  return model_qubo"
      ],
      "metadata": {
        "id": "ko3MgKUp4S2S"
      },
      "execution_count": 11,
      "outputs": []
    },
    {
      "cell_type": "code",
      "source": [
        "small_model_qubo = docplex_to_qubo(mdl)\n",
        "medium_model_qubo = docplex_to_qubo(mdl1)\n",
        "large_model_qubo = docplex_to_qubo(mdl2)"
      ],
      "metadata": {
        "id": "AVccjGuP6Hg6"
      },
      "execution_count": 12,
      "outputs": []
    },
    {
      "cell_type": "markdown",
      "source": [
        "#2.\tCreate a Brute Force solver for the QUBO problem and solve the specific instances.\n",
        "\n",
        "\n"
      ],
      "metadata": {
        "id": "yZOxQelozWlM"
      }
    },
    {
      "cell_type": "code",
      "source": [
        "from itertools import permutations\n",
        "def brute_force_apporach(w, q):\n",
        "    # Generate all permutations of items (weihghts)\n",
        "    all_permutations = permutations(w)\n",
        "\n",
        "    min_bins = float('inf')  # Start with a very large number of bins\n",
        "\n",
        "    for perm in all_permutations:\n",
        "        bins = []\n",
        "\n",
        "        # Try to pack items in the current permutation\n",
        "        for item in perm:\n",
        "            packed = False\n",
        "            # Try to place the item in existing bins\n",
        "            for bin in bins:\n",
        "                if sum(bin) + item <= q:\n",
        "                    bin.append(item)\n",
        "                    packed = True\n",
        "                    break\n",
        "            # If no bin could accommodate the item, start a new bin\n",
        "            if not packed:\n",
        "                bins.append([item])\n",
        "\n",
        "        # Record the solution with the minimum number of bins used\n",
        "        min_bins = min(min_bins, len(bins))\n",
        "\n",
        "    return min_bins\n",
        "\n",
        "# Solve using brute force\n",
        "min_bins = brute_force_apporach(wj, Q)\n",
        "print(f\"Minimum bins required: {min_bins}\")"
      ],
      "metadata": {
        "colab": {
          "base_uri": "https://localhost:8080/"
        },
        "id": "2F5CSjQXmUQJ",
        "outputId": "54235750-7314-4ddb-fe6f-c4a19bd95ba2"
      },
      "execution_count": 13,
      "outputs": [
        {
          "output_type": "stream",
          "name": "stdout",
          "text": [
            "Minimum bins required: 2\n"
          ]
        }
      ]
    },
    {
      "cell_type": "markdown",
      "source": [
        "#3.\tTo solve the QUBO, use quantum annealing simulators"
      ],
      "metadata": {
        "id": "fm1-UiPun12t"
      }
    },
    {
      "cell_type": "markdown",
      "source": [
        "## Using Cplex"
      ],
      "metadata": {
        "id": "hzdeF61G29jr"
      }
    },
    {
      "cell_type": "code",
      "source": [
        "import cplex"
      ],
      "metadata": {
        "id": "rFcdtzL6hQci"
      },
      "execution_count": 14,
      "outputs": []
    },
    {
      "cell_type": "code",
      "source": [
        "result = CplexOptimizer().solve(small_model_qubo)"
      ],
      "metadata": {
        "id": "uO5Po9W4hU4e"
      },
      "execution_count": 15,
      "outputs": []
    },
    {
      "cell_type": "code",
      "source": [
        "print(f\"Minimum bins required: {result.fval}\")"
      ],
      "metadata": {
        "colab": {
          "base_uri": "https://localhost:8080/"
        },
        "id": "nVvnERB73MR1",
        "outputId": "e2bd0dc8-5c79-4e17-99ae-699dd76517be"
      },
      "execution_count": 16,
      "outputs": [
        {
          "output_type": "stream",
          "name": "stdout",
          "text": [
            "Minimum bins required: 2.0\n"
          ]
        }
      ]
    },
    {
      "cell_type": "markdown",
      "source": [
        "https://github.com/qiskit-community/qiskit-optimization/blob/main/docs/tutorials/02_converters_for_quadratic_programs.ipynb\n",
        "\n",
        "https://github.com/qiskit-community/qiskit-optimization/blob/stable/0.5/docs/tutorials/06_examples_max_cut_and_tsp.ipynb\n",
        "\n",
        "https://chatgpt.com/c/670bf488-c88c-8002-a0b4-6ff073ed0038\n"
      ],
      "metadata": {
        "id": "goFlnrnv7pQ0"
      }
    },
    {
      "cell_type": "markdown",
      "source": [
        "# 4. Use a Quantum Variational approach to solve the QUBO."
      ],
      "metadata": {
        "id": "Q3wSvyo6kFDV"
      }
    },
    {
      "cell_type": "code",
      "source": [
        "from qiskit_algorithms.optimizers import COBYLA\n",
        "from qiskit.primitives import Sampler, Estimator"
      ],
      "metadata": {
        "id": "ppnVc221kPHG"
      },
      "execution_count": 17,
      "outputs": []
    },
    {
      "cell_type": "code",
      "source": [
        "# Suppress warnings\n",
        "import warnings\n",
        "warnings.filterwarnings('ignore')"
      ],
      "metadata": {
        "id": "ybZfrwe5BWeh"
      },
      "execution_count": 18,
      "outputs": []
    },
    {
      "cell_type": "code",
      "source": [
        "backend = Aer.get_backend('qasm_simulator')\n",
        "# Define the VQE optimizer\n",
        "optimizer = COBYLA(maxiter=20)\n",
        "estimator = Estimator();\n",
        "\n",
        "from qiskit.circuit.library import TwoLocal\n",
        "# Define the variational ansatz (parameterized quantum circuit) for 3 qubits\n",
        "ansatz = TwoLocal(rotation_blocks='ry', entanglement_blocks='cz', reps=3, entanglement='linear')"
      ],
      "metadata": {
        "id": "qr1FN_sN_6jv"
      },
      "execution_count": 19,
      "outputs": []
    },
    {
      "cell_type": "code",
      "source": [
        "from qiskit_algorithms import VQE\n",
        "\n",
        "# Set up the VQE algorithm\n",
        "vqe = VQE(estimator=estimator, ansatz=ansatz, optimizer=optimizer) #\n",
        "\n",
        "#vqe = MinimumEigenOptimizer(VQE(estimator=estimator, ansatz=ansatz, optimizer=optimizer))"
      ],
      "metadata": {
        "id": "aQtNw7Tq_9lf"
      },
      "execution_count": 20,
      "outputs": []
    },
    {
      "cell_type": "code",
      "source": [
        "# Solve the problem using VQE\n",
        "vqe_optimizer = MinimumEigenOptimizer(vqe)\n",
        "result_vqe = vqe_optimizer.solve(small_model_qubo)"
      ],
      "metadata": {
        "id": "OK2wMtMDOfUt"
      },
      "execution_count": null,
      "outputs": []
    },
    {
      "cell_type": "code",
      "source": [
        "# Solve the problem using VQE\n",
        "result_vqe = vqe.solve(small_model_qubo)\n",
        "# Output the results\n",
        "print(\"Optimal solution:\", result_vqe.x)\n",
        "print(\"Optimal value:\", result_vqe.fval)"
      ],
      "metadata": {
        "id": "KdN1F1GWNPGP"
      },
      "execution_count": null,
      "outputs": []
    },
    {
      "cell_type": "markdown",
      "source": [
        "#5.\tUse QAOA to solve the QUBO."
      ],
      "metadata": {
        "id": "PdjrNCKjNrdX"
      }
    },
    {
      "cell_type": "code",
      "source": [
        "# Solve the problem using QAOA\n",
        "sampler = Sampler()\n",
        "qaoa = MinimumEigenOptimizer(QAOA(reps=3, optimizer=optimizer, sampler = sampler))"
      ],
      "metadata": {
        "id": "pPEMm9pzNkJn"
      },
      "execution_count": 24,
      "outputs": []
    },
    {
      "cell_type": "code",
      "source": [
        "result_qaoa = qaoa.solve(small_model_qubo)\n",
        "print(result_qaoa)\n",
        "\n",
        "# Output the results\n",
        "print(\"Optimal value:\", result_qaoa.fval)"
      ],
      "metadata": {
        "id": "GuxRP7UN_oz1"
      },
      "execution_count": null,
      "outputs": []
    },
    {
      "cell_type": "markdown",
      "source": [
        "#6.\tCompare and analyze the results."
      ],
      "metadata": {
        "id": "8BsmKhQzSmCD"
      }
    },
    {
      "cell_type": "markdown",
      "source": [
        "Since VQE and QAOA consume a lot of memory, they do not work on my Google Colab, but quantum annealing is the fastest one! Actually, I demosntrated teh same in my publication becasue VQE and QAOA compute kernels, which consumes a  significant amount of RAM!"
      ],
      "metadata": {
        "id": "rK7zBEoGSsXy"
      }
    },
    {
      "cell_type": "code",
      "source": [],
      "metadata": {
        "id": "aSjlSGQZTRI1"
      },
      "execution_count": null,
      "outputs": []
    }
  ]
}